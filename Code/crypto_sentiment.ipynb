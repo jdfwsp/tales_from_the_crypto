{
 "cells": [
  {
   "cell_type": "markdown",
   "metadata": {},
   "source": [
    "# Unit 12 - Tales from the Crypto\n",
    "\n",
    "---\n"
   ]
  },
  {
   "cell_type": "markdown",
   "metadata": {},
   "source": [
    "## 1. Sentiment Analysis\n",
    "\n",
    "Use the [newsapi](https://newsapi.org/) to pull the latest news articles for Bitcoin and Ethereum and create a DataFrame of sentiment scores for each coin.\n",
    "\n",
    "Use descriptive statistics to answer the following questions:\n",
    "1. Which coin had the highest mean positive score?\n",
    "2. Which coin had the highest negative score?\n",
    "3. Which coin had the highest positive score?"
   ]
  },
  {
   "cell_type": "code",
   "execution_count": 1,
   "metadata": {},
   "outputs": [
    {
     "name": "stderr",
     "output_type": "stream",
     "text": [
      "[nltk_data] Downloading package vader_lexicon to /home/wh/nltk_data...\n",
      "[nltk_data]   Package vader_lexicon is already up-to-date!\n"
     ]
    }
   ],
   "source": [
    "# Initial imports\n",
    "import warnings\n",
    "warnings.filterwarnings('ignore')\n",
    "import os\n",
    "import pandas as pd\n",
    "from dotenv import load_dotenv\n",
    "import nltk as nltk\n",
    "from newsapi import NewsApiClient\n",
    "nltk.download('vader_lexicon')\n",
    "from nltk.sentiment.vader import SentimentIntensityAnalyzer\n",
    "analyzer = SentimentIntensityAnalyzer()\n",
    "\n",
    "%matplotlib inline"
   ]
  },
  {
   "cell_type": "code",
   "execution_count": 2,
   "metadata": {},
   "outputs": [
    {
     "data": {
      "text/plain": [
       "True"
      ]
     },
     "execution_count": 2,
     "metadata": {},
     "output_type": "execute_result"
    }
   ],
   "source": [
    "load_dotenv()"
   ]
  },
  {
   "cell_type": "code",
   "execution_count": 3,
   "metadata": {},
   "outputs": [
    {
     "data": {
      "text/plain": [
       "str"
      ]
     },
     "execution_count": 3,
     "metadata": {},
     "output_type": "execute_result"
    }
   ],
   "source": [
    "# Read your api key environment variable\n",
    "# YOUR CODE HERE!\n",
    "key = os.getenv(\"news_api_key\")\n",
    "type(key)"
   ]
  },
  {
   "cell_type": "code",
   "execution_count": 4,
   "metadata": {},
   "outputs": [],
   "source": [
    "# Create a newsapi client\n",
    "# YOUR CODE HERE!\n",
    "newsapi = NewsApiClient(api_key = key)"
   ]
  },
  {
   "cell_type": "code",
   "execution_count": 5,
   "metadata": {},
   "outputs": [
    {
     "data": {
      "text/plain": [
       "3"
      ]
     },
     "execution_count": 5,
     "metadata": {},
     "output_type": "execute_result"
    }
   ],
   "source": [
    "# Fetch the Bitcoin news articles\n",
    "# YOUR CODE HERE!\n",
    "btc_articles = newsapi.get_everything(q = 'Bitcoin', language = 'en')\n",
    "len(btc_articles)"
   ]
  },
  {
   "cell_type": "code",
   "execution_count": 6,
   "metadata": {},
   "outputs": [
    {
     "data": {
      "text/plain": [
       "3"
      ]
     },
     "execution_count": 6,
     "metadata": {},
     "output_type": "execute_result"
    }
   ],
   "source": [
    "# Fetch the Ethereum news articles\n",
    "# YOUR CODE HERE!\n",
    "eth_articles = newsapi.get_everything(q = 'Ethereum', language = 'en')\n",
    "len(eth_articles)"
   ]
  },
  {
   "cell_type": "code",
   "execution_count": 7,
   "metadata": {},
   "outputs": [],
   "source": [
    "# Create function to get sentiments from a dictionary of articles from newsapi\n",
    "def get_sentiments(dictionary):\n",
    "    results = []\n",
    "    for x in dictionary['articles']:\n",
    "        title = x['title']\n",
    "        text = x[\"content\"]\n",
    "        date = x[\"publishedAt\"][:10]\n",
    "        sentiment = analyzer.polarity_scores(text)\n",
    "        compound = sentiment['compound']\n",
    "        positive = sentiment['pos']\n",
    "        neutral = sentiment['neu']\n",
    "        negative = sentiment['neg']\n",
    "        results.append({\n",
    "            'Title': title,\n",
    "            'Text': text,\n",
    "            'Date': date,\n",
    "            'Compound': compound,\n",
    "            'Positive': positive,\n",
    "            'Neutral': neutral,\n",
    "            'Negative': negative\n",
    "        })\n",
    "    \n",
    "    return pd.DataFrame(results)"
   ]
  },
  {
   "cell_type": "code",
   "execution_count": 8,
   "metadata": {},
   "outputs": [
    {
     "data": {
      "text/html": [
       "<div>\n",
       "<style scoped>\n",
       "    .dataframe tbody tr th:only-of-type {\n",
       "        vertical-align: middle;\n",
       "    }\n",
       "\n",
       "    .dataframe tbody tr th {\n",
       "        vertical-align: top;\n",
       "    }\n",
       "\n",
       "    .dataframe thead th {\n",
       "        text-align: right;\n",
       "    }\n",
       "</style>\n",
       "<table border=\"1\" class=\"dataframe\">\n",
       "  <thead>\n",
       "    <tr style=\"text-align: right;\">\n",
       "      <th></th>\n",
       "      <th>Title</th>\n",
       "      <th>Text</th>\n",
       "      <th>Date</th>\n",
       "      <th>Compound</th>\n",
       "      <th>Positive</th>\n",
       "      <th>Neutral</th>\n",
       "      <th>Negative</th>\n",
       "    </tr>\n",
       "  </thead>\n",
       "  <tbody>\n",
       "    <tr>\n",
       "      <th>15</th>\n",
       "      <td>What does Uber and birth control have in common?</td>\n",
       "      <td>Hello and welcome back to Equity, TechCrunchs ...</td>\n",
       "      <td>2021-06-14</td>\n",
       "      <td>0.4588</td>\n",
       "      <td>0.083</td>\n",
       "      <td>0.917</td>\n",
       "      <td>0.000</td>\n",
       "    </tr>\n",
       "    <tr>\n",
       "      <th>16</th>\n",
       "      <td>Gold is Dead? Should You Opt for Gold (Over Cr...</td>\n",
       "      <td>This story originally appeared on MarketBeatWh...</td>\n",
       "      <td>2021-06-22</td>\n",
       "      <td>0.0772</td>\n",
       "      <td>0.084</td>\n",
       "      <td>0.841</td>\n",
       "      <td>0.075</td>\n",
       "    </tr>\n",
       "    <tr>\n",
       "      <th>17</th>\n",
       "      <td>UPDATE 1-Bitcoin rises 9.8% to $39,035 - Reuters</td>\n",
       "      <td>By Reuters Staff\\r\\n(Adds context, background)...</td>\n",
       "      <td>2021-06-13</td>\n",
       "      <td>0.0000</td>\n",
       "      <td>0.000</td>\n",
       "      <td>1.000</td>\n",
       "      <td>0.000</td>\n",
       "    </tr>\n",
       "    <tr>\n",
       "      <th>18</th>\n",
       "      <td>Cryptocurrencies tumble amid China crackdown o...</td>\n",
       "      <td>TOKYO, June 21 (Reuters) - Cryptocurrencies tu...</td>\n",
       "      <td>2021-06-21</td>\n",
       "      <td>-0.2732</td>\n",
       "      <td>0.000</td>\n",
       "      <td>0.942</td>\n",
       "      <td>0.058</td>\n",
       "    </tr>\n",
       "    <tr>\n",
       "      <th>19</th>\n",
       "      <td>Boom, bust and bewildered: Bitcoin's year so f...</td>\n",
       "      <td>A representation of virtual currency Bitcoin i...</td>\n",
       "      <td>2021-06-30</td>\n",
       "      <td>0.0000</td>\n",
       "      <td>0.000</td>\n",
       "      <td>1.000</td>\n",
       "      <td>0.000</td>\n",
       "    </tr>\n",
       "  </tbody>\n",
       "</table>\n",
       "</div>"
      ],
      "text/plain": [
       "                                                Title  \\\n",
       "15   What does Uber and birth control have in common?   \n",
       "16  Gold is Dead? Should You Opt for Gold (Over Cr...   \n",
       "17   UPDATE 1-Bitcoin rises 9.8% to $39,035 - Reuters   \n",
       "18  Cryptocurrencies tumble amid China crackdown o...   \n",
       "19  Boom, bust and bewildered: Bitcoin's year so f...   \n",
       "\n",
       "                                                 Text        Date  Compound  \\\n",
       "15  Hello and welcome back to Equity, TechCrunchs ...  2021-06-14    0.4588   \n",
       "16  This story originally appeared on MarketBeatWh...  2021-06-22    0.0772   \n",
       "17  By Reuters Staff\\r\\n(Adds context, background)...  2021-06-13    0.0000   \n",
       "18  TOKYO, June 21 (Reuters) - Cryptocurrencies tu...  2021-06-21   -0.2732   \n",
       "19  A representation of virtual currency Bitcoin i...  2021-06-30    0.0000   \n",
       "\n",
       "    Positive  Neutral  Negative  \n",
       "15     0.083    0.917     0.000  \n",
       "16     0.084    0.841     0.075  \n",
       "17     0.000    1.000     0.000  \n",
       "18     0.000    0.942     0.058  \n",
       "19     0.000    1.000     0.000  "
      ]
     },
     "execution_count": 8,
     "metadata": {},
     "output_type": "execute_result"
    }
   ],
   "source": [
    "# Create the Bitcoin sentiment scores DataFrame\n",
    "# YOUR CODE HERE!\n",
    "btc_sentiments = get_sentiments(btc_articles)\n",
    "btc_sentiments.tail()"
   ]
  },
  {
   "cell_type": "code",
   "execution_count": 9,
   "metadata": {},
   "outputs": [
    {
     "data": {
      "text/html": [
       "<div>\n",
       "<style scoped>\n",
       "    .dataframe tbody tr th:only-of-type {\n",
       "        vertical-align: middle;\n",
       "    }\n",
       "\n",
       "    .dataframe tbody tr th {\n",
       "        vertical-align: top;\n",
       "    }\n",
       "\n",
       "    .dataframe thead th {\n",
       "        text-align: right;\n",
       "    }\n",
       "</style>\n",
       "<table border=\"1\" class=\"dataframe\">\n",
       "  <thead>\n",
       "    <tr style=\"text-align: right;\">\n",
       "      <th></th>\n",
       "      <th>Title</th>\n",
       "      <th>Text</th>\n",
       "      <th>Date</th>\n",
       "      <th>Compound</th>\n",
       "      <th>Positive</th>\n",
       "      <th>Neutral</th>\n",
       "      <th>Negative</th>\n",
       "    </tr>\n",
       "  </thead>\n",
       "  <tbody>\n",
       "    <tr>\n",
       "      <th>15</th>\n",
       "      <td>Bitcoin rises 9.8 percent to $39035 - Reuters</td>\n",
       "      <td>Bitcoin surged 9.83 % to $39,035.47 at 22:05 G...</td>\n",
       "      <td>2021-06-13</td>\n",
       "      <td>-0.2732</td>\n",
       "      <td>0.0</td>\n",
       "      <td>0.94</td>\n",
       "      <td>0.06</td>\n",
       "    </tr>\n",
       "    <tr>\n",
       "      <th>16</th>\n",
       "      <td>Bitcoin falls 8.5% to $31,700 - Reuters</td>\n",
       "      <td>By Reuters Staff\\r\\nJune 25 (Reuters) - Bitcoi...</td>\n",
       "      <td>2021-06-25</td>\n",
       "      <td>-0.3818</td>\n",
       "      <td>0.0</td>\n",
       "      <td>0.92</td>\n",
       "      <td>0.08</td>\n",
       "    </tr>\n",
       "    <tr>\n",
       "      <th>17</th>\n",
       "      <td>Bitcoin rises 5.1 percent to $37,361 - Reuters</td>\n",
       "      <td>By Reuters Staff\\r\\nJune 13 (Reuters) - Bitcoi...</td>\n",
       "      <td>2021-06-13</td>\n",
       "      <td>0.0000</td>\n",
       "      <td>0.0</td>\n",
       "      <td>1.00</td>\n",
       "      <td>0.00</td>\n",
       "    </tr>\n",
       "    <tr>\n",
       "      <th>18</th>\n",
       "      <td>Bitcoin rises 9.8 percent to $39,035 - Reuters</td>\n",
       "      <td>By Reuters Staff\\r\\nJune 13 (Reuters) - Bitcoi...</td>\n",
       "      <td>2021-06-13</td>\n",
       "      <td>0.0000</td>\n",
       "      <td>0.0</td>\n",
       "      <td>1.00</td>\n",
       "      <td>0.00</td>\n",
       "    </tr>\n",
       "    <tr>\n",
       "      <th>19</th>\n",
       "      <td>Bitcoin rises 5.1 percent to $37361 - Reuters</td>\n",
       "      <td>Bitcoin rose 5.11 % to $37,360.63 at 18:10 GMT...</td>\n",
       "      <td>2021-06-13</td>\n",
       "      <td>-0.2732</td>\n",
       "      <td>0.0</td>\n",
       "      <td>0.94</td>\n",
       "      <td>0.06</td>\n",
       "    </tr>\n",
       "  </tbody>\n",
       "</table>\n",
       "</div>"
      ],
      "text/plain": [
       "                                             Title  \\\n",
       "15   Bitcoin rises 9.8 percent to $39035 - Reuters   \n",
       "16         Bitcoin falls 8.5% to $31,700 - Reuters   \n",
       "17  Bitcoin rises 5.1 percent to $37,361 - Reuters   \n",
       "18  Bitcoin rises 9.8 percent to $39,035 - Reuters   \n",
       "19   Bitcoin rises 5.1 percent to $37361 - Reuters   \n",
       "\n",
       "                                                 Text        Date  Compound  \\\n",
       "15  Bitcoin surged 9.83 % to $39,035.47 at 22:05 G...  2021-06-13   -0.2732   \n",
       "16  By Reuters Staff\\r\\nJune 25 (Reuters) - Bitcoi...  2021-06-25   -0.3818   \n",
       "17  By Reuters Staff\\r\\nJune 13 (Reuters) - Bitcoi...  2021-06-13    0.0000   \n",
       "18  By Reuters Staff\\r\\nJune 13 (Reuters) - Bitcoi...  2021-06-13    0.0000   \n",
       "19  Bitcoin rose 5.11 % to $37,360.63 at 18:10 GMT...  2021-06-13   -0.2732   \n",
       "\n",
       "    Positive  Neutral  Negative  \n",
       "15       0.0     0.94      0.06  \n",
       "16       0.0     0.92      0.08  \n",
       "17       0.0     1.00      0.00  \n",
       "18       0.0     1.00      0.00  \n",
       "19       0.0     0.94      0.06  "
      ]
     },
     "execution_count": 9,
     "metadata": {},
     "output_type": "execute_result"
    }
   ],
   "source": [
    "# Create the Ethereum sentiment scores DataFrame\n",
    "# YOUR CODE HERE!\n",
    "eth_sentiments = get_sentiments(eth_articles)\n",
    "eth_sentiments.tail()"
   ]
  },
  {
   "cell_type": "code",
   "execution_count": 10,
   "metadata": {},
   "outputs": [
    {
     "data": {
      "text/html": [
       "<div>\n",
       "<style scoped>\n",
       "    .dataframe tbody tr th:only-of-type {\n",
       "        vertical-align: middle;\n",
       "    }\n",
       "\n",
       "    .dataframe tbody tr th {\n",
       "        vertical-align: top;\n",
       "    }\n",
       "\n",
       "    .dataframe thead th {\n",
       "        text-align: right;\n",
       "    }\n",
       "</style>\n",
       "<table border=\"1\" class=\"dataframe\">\n",
       "  <thead>\n",
       "    <tr style=\"text-align: right;\">\n",
       "      <th></th>\n",
       "      <th>Compound</th>\n",
       "      <th>Positive</th>\n",
       "      <th>Neutral</th>\n",
       "      <th>Negative</th>\n",
       "    </tr>\n",
       "  </thead>\n",
       "  <tbody>\n",
       "    <tr>\n",
       "      <th>count</th>\n",
       "      <td>20.000000</td>\n",
       "      <td>20.000000</td>\n",
       "      <td>20.000000</td>\n",
       "      <td>20.000000</td>\n",
       "    </tr>\n",
       "    <tr>\n",
       "      <th>mean</th>\n",
       "      <td>0.155820</td>\n",
       "      <td>0.076250</td>\n",
       "      <td>0.890800</td>\n",
       "      <td>0.032900</td>\n",
       "    </tr>\n",
       "    <tr>\n",
       "      <th>std</th>\n",
       "      <td>0.392435</td>\n",
       "      <td>0.070288</td>\n",
       "      <td>0.084871</td>\n",
       "      <td>0.053875</td>\n",
       "    </tr>\n",
       "    <tr>\n",
       "      <th>min</th>\n",
       "      <td>-0.612400</td>\n",
       "      <td>0.000000</td>\n",
       "      <td>0.705000</td>\n",
       "      <td>0.000000</td>\n",
       "    </tr>\n",
       "    <tr>\n",
       "      <th>25%</th>\n",
       "      <td>0.000000</td>\n",
       "      <td>0.032250</td>\n",
       "      <td>0.840250</td>\n",
       "      <td>0.000000</td>\n",
       "    </tr>\n",
       "    <tr>\n",
       "      <th>50%</th>\n",
       "      <td>0.128000</td>\n",
       "      <td>0.065500</td>\n",
       "      <td>0.905000</td>\n",
       "      <td>0.000000</td>\n",
       "    </tr>\n",
       "    <tr>\n",
       "      <th>75%</th>\n",
       "      <td>0.369700</td>\n",
       "      <td>0.107250</td>\n",
       "      <td>0.955500</td>\n",
       "      <td>0.058000</td>\n",
       "    </tr>\n",
       "    <tr>\n",
       "      <th>max</th>\n",
       "      <td>0.840200</td>\n",
       "      <td>0.282000</td>\n",
       "      <td>1.000000</td>\n",
       "      <td>0.184000</td>\n",
       "    </tr>\n",
       "  </tbody>\n",
       "</table>\n",
       "</div>"
      ],
      "text/plain": [
       "        Compound   Positive    Neutral   Negative\n",
       "count  20.000000  20.000000  20.000000  20.000000\n",
       "mean    0.155820   0.076250   0.890800   0.032900\n",
       "std     0.392435   0.070288   0.084871   0.053875\n",
       "min    -0.612400   0.000000   0.705000   0.000000\n",
       "25%     0.000000   0.032250   0.840250   0.000000\n",
       "50%     0.128000   0.065500   0.905000   0.000000\n",
       "75%     0.369700   0.107250   0.955500   0.058000\n",
       "max     0.840200   0.282000   1.000000   0.184000"
      ]
     },
     "execution_count": 10,
     "metadata": {},
     "output_type": "execute_result"
    }
   ],
   "source": [
    "# Describe the Bitcoin Sentiment\n",
    "# YOUR CODE HERE!\n",
    "btc_sentiments.describe()"
   ]
  },
  {
   "cell_type": "code",
   "execution_count": 11,
   "metadata": {},
   "outputs": [
    {
     "data": {
      "text/html": [
       "<div>\n",
       "<style scoped>\n",
       "    .dataframe tbody tr th:only-of-type {\n",
       "        vertical-align: middle;\n",
       "    }\n",
       "\n",
       "    .dataframe tbody tr th {\n",
       "        vertical-align: top;\n",
       "    }\n",
       "\n",
       "    .dataframe thead th {\n",
       "        text-align: right;\n",
       "    }\n",
       "</style>\n",
       "<table border=\"1\" class=\"dataframe\">\n",
       "  <thead>\n",
       "    <tr style=\"text-align: right;\">\n",
       "      <th></th>\n",
       "      <th>Compound</th>\n",
       "      <th>Positive</th>\n",
       "      <th>Neutral</th>\n",
       "      <th>Negative</th>\n",
       "    </tr>\n",
       "  </thead>\n",
       "  <tbody>\n",
       "    <tr>\n",
       "      <th>count</th>\n",
       "      <td>20.000000</td>\n",
       "      <td>20.000000</td>\n",
       "      <td>20.000000</td>\n",
       "      <td>20.000000</td>\n",
       "    </tr>\n",
       "    <tr>\n",
       "      <th>mean</th>\n",
       "      <td>0.063475</td>\n",
       "      <td>0.040500</td>\n",
       "      <td>0.934350</td>\n",
       "      <td>0.025150</td>\n",
       "    </tr>\n",
       "    <tr>\n",
       "      <th>std</th>\n",
       "      <td>0.356132</td>\n",
       "      <td>0.058708</td>\n",
       "      <td>0.053135</td>\n",
       "      <td>0.032347</td>\n",
       "    </tr>\n",
       "    <tr>\n",
       "      <th>min</th>\n",
       "      <td>-0.381800</td>\n",
       "      <td>0.000000</td>\n",
       "      <td>0.806000</td>\n",
       "      <td>0.000000</td>\n",
       "    </tr>\n",
       "    <tr>\n",
       "      <th>25%</th>\n",
       "      <td>-0.273200</td>\n",
       "      <td>0.000000</td>\n",
       "      <td>0.920000</td>\n",
       "      <td>0.000000</td>\n",
       "    </tr>\n",
       "    <tr>\n",
       "      <th>50%</th>\n",
       "      <td>0.000000</td>\n",
       "      <td>0.000000</td>\n",
       "      <td>0.936500</td>\n",
       "      <td>0.000000</td>\n",
       "    </tr>\n",
       "    <tr>\n",
       "      <th>75%</th>\n",
       "      <td>0.361200</td>\n",
       "      <td>0.074750</td>\n",
       "      <td>0.961000</td>\n",
       "      <td>0.060250</td>\n",
       "    </tr>\n",
       "    <tr>\n",
       "      <th>max</th>\n",
       "      <td>0.771700</td>\n",
       "      <td>0.194000</td>\n",
       "      <td>1.000000</td>\n",
       "      <td>0.080000</td>\n",
       "    </tr>\n",
       "  </tbody>\n",
       "</table>\n",
       "</div>"
      ],
      "text/plain": [
       "        Compound   Positive    Neutral   Negative\n",
       "count  20.000000  20.000000  20.000000  20.000000\n",
       "mean    0.063475   0.040500   0.934350   0.025150\n",
       "std     0.356132   0.058708   0.053135   0.032347\n",
       "min    -0.381800   0.000000   0.806000   0.000000\n",
       "25%    -0.273200   0.000000   0.920000   0.000000\n",
       "50%     0.000000   0.000000   0.936500   0.000000\n",
       "75%     0.361200   0.074750   0.961000   0.060250\n",
       "max     0.771700   0.194000   1.000000   0.080000"
      ]
     },
     "execution_count": 11,
     "metadata": {},
     "output_type": "execute_result"
    }
   ],
   "source": [
    "# Describe the Ethereum Sentiment\n",
    "# YOUR CODE HERE!\n",
    "eth_sentiments.describe()"
   ]
  },
  {
   "cell_type": "markdown",
   "metadata": {},
   "source": [
    "### Questions:\n",
    "\n",
    "Q: Which coin had the highest mean positive score?\n",
    "\n",
    "A: Bitcoin: 0.076250\n",
    "\n",
    "Q: Which coin had the highest compound score?\n",
    "\n",
    "A: Bitcoin: 0.840200\n",
    "\n",
    "Q. Which coin had the highest positive score?\n",
    "\n",
    "A: Bitcoin: 0.282000"
   ]
  },
  {
   "cell_type": "markdown",
   "metadata": {},
   "source": [
    "---"
   ]
  },
  {
   "cell_type": "markdown",
   "metadata": {},
   "source": [
    "## 2. Natural Language Processing\n",
    "---\n",
    "###   Tokenizer\n",
    "\n",
    "In this section, you will use NLTK and Python to tokenize the text for each coin. Be sure to:\n",
    "1. Lowercase each word.\n",
    "2. Remove Punctuation.\n",
    "3. Remove Stopwords."
   ]
  },
  {
   "cell_type": "code",
   "execution_count": 12,
   "metadata": {},
   "outputs": [
    {
     "name": "stderr",
     "output_type": "stream",
     "text": [
      "[nltk_data] Downloading package stopwords to /home/wh/nltk_data...\n",
      "[nltk_data]   Package stopwords is already up-to-date!\n",
      "[nltk_data] Downloading package punkt to /home/wh/nltk_data...\n",
      "[nltk_data]   Package punkt is already up-to-date!\n"
     ]
    },
    {
     "data": {
      "text/plain": [
       "True"
      ]
     },
     "execution_count": 12,
     "metadata": {},
     "output_type": "execute_result"
    }
   ],
   "source": [
    "from nltk.tokenize import word_tokenize, sent_tokenize\n",
    "from nltk.corpus import stopwords\n",
    "from nltk.stem import WordNetLemmatizer, PorterStemmer\n",
    "from string import punctuation\n",
    "import re\n",
    "nltk.download('stopwords')\n",
    "nltk.download('punkt')"
   ]
  },
  {
   "cell_type": "code",
   "execution_count": 13,
   "metadata": {},
   "outputs": [
    {
     "name": "stdout",
     "output_type": "stream",
     "text": [
      "{'about', 'all', 'him', 'this', 'if', 'further', 'yourselves', 'shouldn', 'other', 'a', 'does', 'once', \"don't\", 'no', 'ourselves', 'her', 'needn', 'but', \"you've\", 'aren', 'some', 'are', 'only', 'couldn', 'same', 'myself', 'when', 'i', 'own', 'their', 'not', 'itself', 'am', 'nor', \"hadn't\", 'hers', 'themselves', 'from', 'while', 'won', \"you'd\", 'your', 're', 'off', 'hasn', 'under', 'weren', 'now', 'as', 'on', 'more', \"should've\", 'he', 'there', 'theirs', 'should', 'any', 'in', 'have', 'had', 'to', 'out', 'do', 'the', 'how', 'for', 'below', \"couldn't\", 'after', 'between', 'wasn', 'over', \"she's\", \"shan't\", 'his', \"mightn't\", \"you'll\", 'whom', \"haven't\", 'against', 'will', 'it', 'y', 'those', 'o', 'they', \"hasn't\", 'than', 'during', 't', \"shouldn't\", 'we', 'were', 'our', 'here', 'can', 'didn', \"weren't\", 'what', 'been', 'few', 'so', \"you're\", \"needn't\", 'haven', 'you', 'mightn', 'ain', 'both', 'who', 'by', 's', 'before', 'because', 'very', 'just', 'did', 'ma', 'these', 'and', \"wouldn't\", 'herself', 'hadn', \"that'll\", 'being', 'my', 'be', 'why', \"isn't\", \"wasn't\", 'of', 'its', 'has', 'most', 'is', 'or', 'isn', 'until', 'was', 'such', 'himself', 'into', \"didn't\", 'with', 'd', 'again', 've', 'then', \"doesn't\", 'wouldn', 'each', 'which', 'above', 'shan', 'too', 'yourself', 'ours', 'doing', 'having', 'down', \"won't\", 'at', 'm', \"mustn't\", 'me', \"aren't\", \"it's\", 'don', 'll', 'doesn', 'that', 'where', 'them', 'mustn', 'an', 'up', 'through', 'she', 'yours'}\n"
     ]
    }
   ],
   "source": [
    "# Instantiate the lemmatizer\n",
    "# YOUR CODE HERE!\n",
    "lemmatizer = WordNetLemmatizer()\n",
    "# Create a list of stopwords\n",
    "# YOUR CODE HERE!\n",
    "sw = set(stopwords.words('english'))\n",
    "# Expand the default stopwords list if necessary\n",
    "# YOUR CODE HERE!\n",
    "print(sw)"
   ]
  },
  {
   "cell_type": "code",
   "execution_count": 14,
   "metadata": {},
   "outputs": [],
   "source": [
    "# Complete the tokenizer function\n",
    "def tokenizer(df):\n",
    "    regex = re.compile(\"[^a-zA-Z ]\")\n",
    "    df['Tokens'] = \"\"\n",
    "#     \"\"\"Tokenizes text.\"\"\"\n",
    "#     sentence = sent_tokenize(text)['Text']\n",
    "    \n",
    "#     # Remove the punctuation from text\n",
    "#     regex = re.compile(\"[^a-zA-Z]\")\n",
    "#     sentence = regex.sub(' ', sentence)\n",
    "   \n",
    "#     # Create a tokenized list of the words\n",
    "#     words = word_tokenize(sentence)\n",
    "    \n",
    "#     # Lemmatize words into root words\n",
    "#     tokens = [lemmatizer.lemmatize(x) for x in words]\n",
    "   \n",
    "#     # Convert the words to lowercase & Remove the stop words\n",
    "#     tokens = [x.lower() for x in words if x.lower() not in sw]\n",
    "    \n",
    "#     return tokens\n",
    "    for i in range(len(df)):\n",
    "        clean = regex.sub(\"\", df['Text'].loc[i])\n",
    "        words = word_tokenize(clean)\n",
    "        \n",
    "        words = [x.lower() for x in words if x.lower() not in sw]\n",
    "        words = [lemmatizer.lemmatize(x) for x in words]\n",
    "        df['Tokens'][i] = words\n",
    "    return df"
   ]
  },
  {
   "cell_type": "code",
   "execution_count": 15,
   "metadata": {},
   "outputs": [
    {
     "data": {
      "text/html": [
       "<div>\n",
       "<style scoped>\n",
       "    .dataframe tbody tr th:only-of-type {\n",
       "        vertical-align: middle;\n",
       "    }\n",
       "\n",
       "    .dataframe tbody tr th {\n",
       "        vertical-align: top;\n",
       "    }\n",
       "\n",
       "    .dataframe thead th {\n",
       "        text-align: right;\n",
       "    }\n",
       "</style>\n",
       "<table border=\"1\" class=\"dataframe\">\n",
       "  <thead>\n",
       "    <tr style=\"text-align: right;\">\n",
       "      <th></th>\n",
       "      <th>Title</th>\n",
       "      <th>Text</th>\n",
       "      <th>Date</th>\n",
       "      <th>Compound</th>\n",
       "      <th>Positive</th>\n",
       "      <th>Neutral</th>\n",
       "      <th>Negative</th>\n",
       "      <th>Tokens</th>\n",
       "    </tr>\n",
       "  </thead>\n",
       "  <tbody>\n",
       "    <tr>\n",
       "      <th>0</th>\n",
       "      <td>El Salvador becomes the first country to appro...</td>\n",
       "      <td>El Salvador's President Nayib Bukele has made ...</td>\n",
       "      <td>2021-06-09</td>\n",
       "      <td>0.8402</td>\n",
       "      <td>0.282</td>\n",
       "      <td>0.718</td>\n",
       "      <td>0.000</td>\n",
       "      <td>[el, salvador, president, nayib, bukele, made,...</td>\n",
       "    </tr>\n",
       "    <tr>\n",
       "      <th>1</th>\n",
       "      <td>El Salvador Becomes First Country to Recognize...</td>\n",
       "      <td>El Salvador has become the first country in th...</td>\n",
       "      <td>2021-06-09</td>\n",
       "      <td>0.1280</td>\n",
       "      <td>0.043</td>\n",
       "      <td>0.957</td>\n",
       "      <td>0.000</td>\n",
       "      <td>[el, salvador, become, first, country, world, ...</td>\n",
       "    </tr>\n",
       "    <tr>\n",
       "      <th>2</th>\n",
       "      <td>Elon Musk says Tesla will resume Bitcoin purch...</td>\n",
       "      <td>It's all about clean energy, it seems. \\r\\nElo...</td>\n",
       "      <td>2021-06-14</td>\n",
       "      <td>0.6908</td>\n",
       "      <td>0.169</td>\n",
       "      <td>0.831</td>\n",
       "      <td>0.000</td>\n",
       "      <td>[clean, energy, seemselon, musk, tesla, caused...</td>\n",
       "    </tr>\n",
       "    <tr>\n",
       "      <th>3</th>\n",
       "      <td>Kaseya ransomware attackers demand $70 million...</td>\n",
       "      <td>Filed under:\\r\\nThe supply chain attack has re...</td>\n",
       "      <td>2021-07-05</td>\n",
       "      <td>-0.5719</td>\n",
       "      <td>0.111</td>\n",
       "      <td>0.705</td>\n",
       "      <td>0.184</td>\n",
       "      <td>[filed, underthe, supply, chain, attack, reach...</td>\n",
       "    </tr>\n",
       "    <tr>\n",
       "      <th>4</th>\n",
       "      <td>Bitcoin: El Salvador makes cryptocurrency lega...</td>\n",
       "      <td>image captionThe move means bitcoin will be ac...</td>\n",
       "      <td>2021-06-09</td>\n",
       "      <td>0.2732</td>\n",
       "      <td>0.060</td>\n",
       "      <td>0.940</td>\n",
       "      <td>0.000</td>\n",
       "      <td>[image, captionthe, move, mean, bitcoin, accep...</td>\n",
       "    </tr>\n",
       "  </tbody>\n",
       "</table>\n",
       "</div>"
      ],
      "text/plain": [
       "                                               Title  \\\n",
       "0  El Salvador becomes the first country to appro...   \n",
       "1  El Salvador Becomes First Country to Recognize...   \n",
       "2  Elon Musk says Tesla will resume Bitcoin purch...   \n",
       "3  Kaseya ransomware attackers demand $70 million...   \n",
       "4  Bitcoin: El Salvador makes cryptocurrency lega...   \n",
       "\n",
       "                                                Text        Date  Compound  \\\n",
       "0  El Salvador's President Nayib Bukele has made ...  2021-06-09    0.8402   \n",
       "1  El Salvador has become the first country in th...  2021-06-09    0.1280   \n",
       "2  It's all about clean energy, it seems. \\r\\nElo...  2021-06-14    0.6908   \n",
       "3  Filed under:\\r\\nThe supply chain attack has re...  2021-07-05   -0.5719   \n",
       "4  image captionThe move means bitcoin will be ac...  2021-06-09    0.2732   \n",
       "\n",
       "   Positive  Neutral  Negative  \\\n",
       "0     0.282    0.718     0.000   \n",
       "1     0.043    0.957     0.000   \n",
       "2     0.169    0.831     0.000   \n",
       "3     0.111    0.705     0.184   \n",
       "4     0.060    0.940     0.000   \n",
       "\n",
       "                                              Tokens  \n",
       "0  [el, salvador, president, nayib, bukele, made,...  \n",
       "1  [el, salvador, become, first, country, world, ...  \n",
       "2  [clean, energy, seemselon, musk, tesla, caused...  \n",
       "3  [filed, underthe, supply, chain, attack, reach...  \n",
       "4  [image, captionthe, move, mean, bitcoin, accep...  "
      ]
     },
     "execution_count": 15,
     "metadata": {},
     "output_type": "execute_result"
    }
   ],
   "source": [
    "# Create a new tokens column for Bitcoin\n",
    "# YOUR CODE HERE!\n",
    "btc_tokenized = tokenizer(btc_sentiments)\n",
    "btc_tokenized.head()"
   ]
  },
  {
   "cell_type": "code",
   "execution_count": 16,
   "metadata": {},
   "outputs": [
    {
     "data": {
      "text/html": [
       "<div>\n",
       "<style scoped>\n",
       "    .dataframe tbody tr th:only-of-type {\n",
       "        vertical-align: middle;\n",
       "    }\n",
       "\n",
       "    .dataframe tbody tr th {\n",
       "        vertical-align: top;\n",
       "    }\n",
       "\n",
       "    .dataframe thead th {\n",
       "        text-align: right;\n",
       "    }\n",
       "</style>\n",
       "<table border=\"1\" class=\"dataframe\">\n",
       "  <thead>\n",
       "    <tr style=\"text-align: right;\">\n",
       "      <th></th>\n",
       "      <th>Title</th>\n",
       "      <th>Text</th>\n",
       "      <th>Date</th>\n",
       "      <th>Compound</th>\n",
       "      <th>Positive</th>\n",
       "      <th>Neutral</th>\n",
       "      <th>Negative</th>\n",
       "      <th>Tokens</th>\n",
       "    </tr>\n",
       "  </thead>\n",
       "  <tbody>\n",
       "    <tr>\n",
       "      <th>15</th>\n",
       "      <td>Bitcoin rises 9.8 percent to $39035 - Reuters</td>\n",
       "      <td>Bitcoin surged 9.83 % to $39,035.47 at 22:05 G...</td>\n",
       "      <td>2021-06-13</td>\n",
       "      <td>-0.2732</td>\n",
       "      <td>0.0</td>\n",
       "      <td>0.94</td>\n",
       "      <td>0.06</td>\n",
       "      <td>[bitcoin, surged, gmt, sunday, adding, previou...</td>\n",
       "    </tr>\n",
       "    <tr>\n",
       "      <th>16</th>\n",
       "      <td>Bitcoin falls 8.5% to $31,700 - Reuters</td>\n",
       "      <td>By Reuters Staff\\r\\nJune 25 (Reuters) - Bitcoi...</td>\n",
       "      <td>2021-06-25</td>\n",
       "      <td>-0.3818</td>\n",
       "      <td>0.0</td>\n",
       "      <td>0.92</td>\n",
       "      <td>0.08</td>\n",
       "      <td>[reuters, staffjune, reuters, bitcoin, dipped,...</td>\n",
       "    </tr>\n",
       "    <tr>\n",
       "      <th>17</th>\n",
       "      <td>Bitcoin rises 5.1 percent to $37,361 - Reuters</td>\n",
       "      <td>By Reuters Staff\\r\\nJune 13 (Reuters) - Bitcoi...</td>\n",
       "      <td>2021-06-13</td>\n",
       "      <td>0.0000</td>\n",
       "      <td>0.0</td>\n",
       "      <td>1.00</td>\n",
       "      <td>0.00</td>\n",
       "      <td>[reuters, staffjune, reuters, bitcoin, rose, g...</td>\n",
       "    </tr>\n",
       "    <tr>\n",
       "      <th>18</th>\n",
       "      <td>Bitcoin rises 9.8 percent to $39,035 - Reuters</td>\n",
       "      <td>By Reuters Staff\\r\\nJune 13 (Reuters) - Bitcoi...</td>\n",
       "      <td>2021-06-13</td>\n",
       "      <td>0.0000</td>\n",
       "      <td>0.0</td>\n",
       "      <td>1.00</td>\n",
       "      <td>0.00</td>\n",
       "      <td>[reuters, staffjune, reuters, bitcoin, surged,...</td>\n",
       "    </tr>\n",
       "    <tr>\n",
       "      <th>19</th>\n",
       "      <td>Bitcoin rises 5.1 percent to $37361 - Reuters</td>\n",
       "      <td>Bitcoin rose 5.11 % to $37,360.63 at 18:10 GMT...</td>\n",
       "      <td>2021-06-13</td>\n",
       "      <td>-0.2732</td>\n",
       "      <td>0.0</td>\n",
       "      <td>0.94</td>\n",
       "      <td>0.06</td>\n",
       "      <td>[bitcoin, rose, gmt, sunday, adding, previous,...</td>\n",
       "    </tr>\n",
       "  </tbody>\n",
       "</table>\n",
       "</div>"
      ],
      "text/plain": [
       "                                             Title  \\\n",
       "15   Bitcoin rises 9.8 percent to $39035 - Reuters   \n",
       "16         Bitcoin falls 8.5% to $31,700 - Reuters   \n",
       "17  Bitcoin rises 5.1 percent to $37,361 - Reuters   \n",
       "18  Bitcoin rises 9.8 percent to $39,035 - Reuters   \n",
       "19   Bitcoin rises 5.1 percent to $37361 - Reuters   \n",
       "\n",
       "                                                 Text        Date  Compound  \\\n",
       "15  Bitcoin surged 9.83 % to $39,035.47 at 22:05 G...  2021-06-13   -0.2732   \n",
       "16  By Reuters Staff\\r\\nJune 25 (Reuters) - Bitcoi...  2021-06-25   -0.3818   \n",
       "17  By Reuters Staff\\r\\nJune 13 (Reuters) - Bitcoi...  2021-06-13    0.0000   \n",
       "18  By Reuters Staff\\r\\nJune 13 (Reuters) - Bitcoi...  2021-06-13    0.0000   \n",
       "19  Bitcoin rose 5.11 % to $37,360.63 at 18:10 GMT...  2021-06-13   -0.2732   \n",
       "\n",
       "    Positive  Neutral  Negative  \\\n",
       "15       0.0     0.94      0.06   \n",
       "16       0.0     0.92      0.08   \n",
       "17       0.0     1.00      0.00   \n",
       "18       0.0     1.00      0.00   \n",
       "19       0.0     0.94      0.06   \n",
       "\n",
       "                                               Tokens  \n",
       "15  [bitcoin, surged, gmt, sunday, adding, previou...  \n",
       "16  [reuters, staffjune, reuters, bitcoin, dipped,...  \n",
       "17  [reuters, staffjune, reuters, bitcoin, rose, g...  \n",
       "18  [reuters, staffjune, reuters, bitcoin, surged,...  \n",
       "19  [bitcoin, rose, gmt, sunday, adding, previous,...  "
      ]
     },
     "execution_count": 16,
     "metadata": {},
     "output_type": "execute_result"
    }
   ],
   "source": [
    "# Create a new tokens column for Ethereum\n",
    "# YOUR CODE HERE!\n",
    "eth_tokenized = tokenizer(eth_sentiments)\n",
    "eth_tokenized.tail()"
   ]
  },
  {
   "cell_type": "markdown",
   "metadata": {},
   "source": [
    "---"
   ]
  },
  {
   "cell_type": "markdown",
   "metadata": {},
   "source": [
    "### NGrams and Frequency Analysis\n",
    "\n",
    "In this section you will look at the ngrams and word frequency for each coin. \n",
    "\n",
    "1. Use NLTK to produce the n-grams for N = 2. \n",
    "2. List the top 10 words for each coin. "
   ]
  },
  {
   "cell_type": "code",
   "execution_count": 17,
   "metadata": {},
   "outputs": [],
   "source": [
    "from collections import Counter\n",
    "from nltk import ngrams"
   ]
  },
  {
   "cell_type": "code",
   "execution_count": 18,
   "metadata": {},
   "outputs": [],
   "source": [
    "# Generate the Bitcoin N-grams where N=2\n",
    "# YOUR CODE HERE!"
   ]
  },
  {
   "cell_type": "code",
   "execution_count": 19,
   "metadata": {},
   "outputs": [],
   "source": [
    "# Generate the Ethereum N-grams where N=2\n",
    "# YOUR CODE HERE!"
   ]
  },
  {
   "cell_type": "code",
   "execution_count": 20,
   "metadata": {},
   "outputs": [],
   "source": [
    "# Function token_count generates the top 10 words for a given coin\n",
    "def token_count(tokens, N=3):\n",
    "    \"\"\"Returns the top N tokens from the frequency count\"\"\"\n",
    "    return Counter(tokens).most_common(N)"
   ]
  },
  {
   "cell_type": "code",
   "execution_count": 21,
   "metadata": {},
   "outputs": [],
   "source": [
    "# Use token_count to get the top 10 words for Bitcoin\n",
    "# YOUR CODE HERE!"
   ]
  },
  {
   "cell_type": "code",
   "execution_count": 22,
   "metadata": {},
   "outputs": [],
   "source": [
    "# Use token_count to get the top 10 words for Ethereum\n",
    "# YOUR CODE HERE!"
   ]
  },
  {
   "cell_type": "markdown",
   "metadata": {},
   "source": [
    "---"
   ]
  },
  {
   "cell_type": "markdown",
   "metadata": {},
   "source": [
    "### Word Clouds\n",
    "\n",
    "In this section, you will generate word clouds for each coin to summarize the news for each coin"
   ]
  },
  {
   "cell_type": "code",
   "execution_count": 23,
   "metadata": {},
   "outputs": [],
   "source": [
    "from wordcloud import WordCloud\n",
    "import matplotlib.pyplot as plt\n",
    "plt.style.use('seaborn-whitegrid')\n",
    "import matplotlib as mpl\n",
    "mpl.rcParams['figure.figsize'] = [20.0, 10.0]"
   ]
  },
  {
   "cell_type": "code",
   "execution_count": 24,
   "metadata": {},
   "outputs": [],
   "source": [
    "# Generate the Bitcoin word cloud\n",
    "# YOUR CODE HERE!"
   ]
  },
  {
   "cell_type": "code",
   "execution_count": 25,
   "metadata": {},
   "outputs": [],
   "source": [
    "# Generate the Ethereum word cloud\n",
    "# YOUR CODE HERE!"
   ]
  },
  {
   "cell_type": "markdown",
   "metadata": {},
   "source": [
    "---\n",
    "## 3. Named Entity Recognition\n",
    "\n",
    "In this section, you will build a named entity recognition model for both Bitcoin and Ethereum, then visualize the tags using SpaCy."
   ]
  },
  {
   "cell_type": "code",
   "execution_count": 26,
   "metadata": {},
   "outputs": [],
   "source": [
    "import spacy\n",
    "from spacy import displacy"
   ]
  },
  {
   "cell_type": "code",
   "execution_count": 27,
   "metadata": {},
   "outputs": [],
   "source": [
    "# Download the language model for SpaCy\n",
    "# !python -m spacy download en_core_web_sm"
   ]
  },
  {
   "cell_type": "code",
   "execution_count": 28,
   "metadata": {},
   "outputs": [],
   "source": [
    "# Load the spaCy model\n",
    "nlp = spacy.load('en_core_web_sm')"
   ]
  },
  {
   "cell_type": "markdown",
   "metadata": {},
   "source": [
    "---\n",
    "### Bitcoin NER"
   ]
  },
  {
   "cell_type": "code",
   "execution_count": 29,
   "metadata": {},
   "outputs": [],
   "source": [
    "# Concatenate all of the Bitcoin text together\n",
    "# YOUR CODE HERE!"
   ]
  },
  {
   "cell_type": "code",
   "execution_count": 30,
   "metadata": {},
   "outputs": [],
   "source": [
    "# Run the NER processor on all of the text\n",
    "# YOUR CODE HERE!\n",
    "\n",
    "# Add a title to the document\n",
    "# YOUR CODE HERE!"
   ]
  },
  {
   "cell_type": "code",
   "execution_count": 31,
   "metadata": {},
   "outputs": [],
   "source": [
    "# Render the visualization\n",
    "# YOUR CODE HERE!"
   ]
  },
  {
   "cell_type": "code",
   "execution_count": 32,
   "metadata": {},
   "outputs": [],
   "source": [
    "# List all Entities\n",
    "# YOUR CODE HERE!"
   ]
  },
  {
   "cell_type": "markdown",
   "metadata": {},
   "source": [
    "---"
   ]
  },
  {
   "cell_type": "markdown",
   "metadata": {},
   "source": [
    "### Ethereum NER"
   ]
  },
  {
   "cell_type": "code",
   "execution_count": 33,
   "metadata": {},
   "outputs": [],
   "source": [
    "# Concatenate all of the Ethereum text together\n",
    "# YOUR CODE HERE!"
   ]
  },
  {
   "cell_type": "code",
   "execution_count": 34,
   "metadata": {},
   "outputs": [],
   "source": [
    "# Run the NER processor on all of the text\n",
    "# YOUR CODE HERE!\n",
    "\n",
    "# Add a title to the document\n",
    "# YOUR CODE HERE!"
   ]
  },
  {
   "cell_type": "code",
   "execution_count": 35,
   "metadata": {},
   "outputs": [],
   "source": [
    "# Render the visualization\n",
    "# YOUR CODE HERE!"
   ]
  },
  {
   "cell_type": "code",
   "execution_count": 36,
   "metadata": {},
   "outputs": [],
   "source": [
    "# List all Entities\n",
    "# YOUR CODE HERE!"
   ]
  },
  {
   "cell_type": "markdown",
   "metadata": {},
   "source": [
    "---"
   ]
  }
 ],
 "metadata": {
  "file_extension": ".py",
  "kernelspec": {
   "display_name": "Python 3",
   "language": "python",
   "name": "python3"
  },
  "language_info": {
   "codemirror_mode": {
    "name": "ipython",
    "version": 3
   },
   "file_extension": ".py",
   "mimetype": "text/x-python",
   "name": "python",
   "nbconvert_exporter": "python",
   "pygments_lexer": "ipython3",
   "version": "3.9.5"
  },
  "mimetype": "text/x-python",
  "name": "python",
  "npconvert_exporter": "python",
  "pygments_lexer": "ipython3",
  "version": 3
 },
 "nbformat": 4,
 "nbformat_minor": 4
}
